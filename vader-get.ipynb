{
 "cells": [
  {
   "cell_type": "code",
   "execution_count": 1,
   "id": "cc4040eb",
   "metadata": {},
   "outputs": [],
   "source": [
    "import pandas as pd\n",
    "\n",
    "subreddit = \"wallstreetbets\"\n",
    "keyword = \"AAPL\"\n",
    "\n",
    "#df = pd.read_csv(f'nov-{keyword}_dataset_{subreddit}_posts.csv')\n",
    "df = pd.read_csv(f'nov-{keyword}_dataset_all_posts.csv')"
   ]
  },
  {
   "cell_type": "code",
   "execution_count": 7,
   "id": "d1aded15",
   "metadata": {},
   "outputs": [],
   "source": [
    "df_filtered = df[df['num_comments'] > 0]"
   ]
  },
  {
   "cell_type": "code",
   "execution_count": 9,
   "id": "fed967f4",
   "metadata": {},
   "outputs": [
    {
     "data": {
      "text/html": [
       "<div>\n",
       "<style scoped>\n",
       "    .dataframe tbody tr th:only-of-type {\n",
       "        vertical-align: middle;\n",
       "    }\n",
       "\n",
       "    .dataframe tbody tr th {\n",
       "        vertical-align: top;\n",
       "    }\n",
       "\n",
       "    .dataframe thead th {\n",
       "        text-align: right;\n",
       "    }\n",
       "</style>\n",
       "<table border=\"1\" class=\"dataframe\">\n",
       "  <thead>\n",
       "    <tr style=\"text-align: right;\">\n",
       "      <th></th>\n",
       "      <th>num_comments</th>\n",
       "    </tr>\n",
       "  </thead>\n",
       "  <tbody>\n",
       "    <tr>\n",
       "      <th>count</th>\n",
       "      <td>68.000000</td>\n",
       "    </tr>\n",
       "    <tr>\n",
       "      <th>mean</th>\n",
       "      <td>1.132353</td>\n",
       "    </tr>\n",
       "    <tr>\n",
       "      <th>std</th>\n",
       "      <td>0.341394</td>\n",
       "    </tr>\n",
       "    <tr>\n",
       "      <th>min</th>\n",
       "      <td>1.000000</td>\n",
       "    </tr>\n",
       "    <tr>\n",
       "      <th>25%</th>\n",
       "      <td>1.000000</td>\n",
       "    </tr>\n",
       "    <tr>\n",
       "      <th>50%</th>\n",
       "      <td>1.000000</td>\n",
       "    </tr>\n",
       "    <tr>\n",
       "      <th>75%</th>\n",
       "      <td>1.000000</td>\n",
       "    </tr>\n",
       "    <tr>\n",
       "      <th>max</th>\n",
       "      <td>2.000000</td>\n",
       "    </tr>\n",
       "  </tbody>\n",
       "</table>\n",
       "</div>"
      ],
      "text/plain": [
       "       num_comments\n",
       "count     68.000000\n",
       "mean       1.132353\n",
       "std        0.341394\n",
       "min        1.000000\n",
       "25%        1.000000\n",
       "50%        1.000000\n",
       "75%        1.000000\n",
       "max        2.000000"
      ]
     },
     "execution_count": 9,
     "metadata": {},
     "output_type": "execute_result"
    }
   ],
   "source": [
    "df_filtered.describe()"
   ]
  },
  {
   "cell_type": "code",
   "execution_count": 10,
   "id": "a0649a2a",
   "metadata": {},
   "outputs": [],
   "source": [
    "from vaderSentiment.vaderSentiment import SentimentIntensityAnalyzer\n",
    "\n",
    "# function to print sentiments\n",
    "# of the sentence.\n",
    "def sentiment_scores(sentence, k):\n",
    "    \n",
    "    sid_obj = SentimentIntensityAnalyzer()\n",
    "    sentiment_dict = sid_obj.polarity_scores(sentence)\n",
    "    \n",
    "    if sentiment_dict['compound'] >= 0.05 :\n",
    "        return 1\n",
    "        print(\"Positive: \", sentence)\n",
    "    elif sentiment_dict['compound'] <= - 0.05 :\n",
    "        print(\"Negative: \", sentence)\n",
    "        return -1\n",
    "    else :\n",
    "        print(\"Neutral: \", sentence)\n",
    "        return 0"
   ]
  },
  {
   "cell_type": "code",
   "execution_count": 14,
   "id": "c5ad0686",
   "metadata": {},
   "outputs": [
    {
     "name": "stdout",
     "output_type": "stream",
     "text": [
      "Neutral:  New: ETFs vs Single Stocks\n",
      "Neutral:  Reddit's Sentiment going into AMD Earnings Call\n",
      "Neutral:  Just setup FTX, but I can't buy GME on the app?\n",
      "Neutral:  MacOS Ventura on SKYLAKE LAPTOP Dell Latitude 5480\n",
      "Neutral:  Sell everything and put it into VTI and SCHD?\n",
      "Negative:  first bought AAPL puts, then COIN puts. 0 for 2. GG, this shit's not for me. COIN down 28% net revenue but stock still pumps nearly 10% after hours. So dumb.\n",
      "Neutral:  Current Holdings\n",
      "Neutral:  Question about accumulating ETFs\n",
      "Negative:  Apple Can't Save PayPal\n",
      "Neutral:  Requesting r/aapl\n",
      "Neutral:  Foxconn: Workers Flee From World’s Largest iPhone Factory, Puts on AAPL\n",
      "Neutral:  Dividend Income So Far at 20 Years Old\n",
      "Neutral:  25% of the S&amp;P 500 is made up of only 5 stocks, let's discuss each stock:\n",
      "Neutral:  Not looking for AAPL\n",
      "Negative:  Not looking good for AAPL\n",
      "Neutral:  I was doing some DD after the AAPL-Foxconn news, and found this…\n",
      "Neutral:  How I Turned $10,437 into $111,669 in 13 months Trading Options\n",
      "Neutral:  Berkshire Hathaway’s operating earnings jump 20%, conglomerate buys back another $1 billion in stock\n",
      "Neutral:  ZOM is making its pre earnings run 🏃‍♀️ up ⬆️. Assisi animal health will be included on this ER.\n",
      "Neutral:  Can someone explain this AAPL massive after hours spike\n",
      "Neutral:  Fulfillment speed trading capacity\n",
      "Negative:  Could see the market stall out until we see aapl break out of the Head and Shoulders Formation\n",
      "Neutral:  This can't be right?! Any insights APEs?\n",
      "Negative:  We will be in recession?!!\n",
      "Neutral:  I made an AI to analyze earnings call\n",
      "Neutral:  Next ZOMEDICA ER is November 14th 2022. Assisi animal health revenue will be on this ER.\n",
      "Neutral:  AAPL or LI?\n",
      "Negative:  Now short on~ max margin. I believe the bear market rally will end soon. This rally is just another bear market rally IMO, and it doesn't seem like a bad time to scale into some short positions for me personally.\n",
      "Neutral:  Which To Sell For A Plane Ticket\n",
      "Neutral:  Tradeview Chart Transperency Background Fix\n",
      "Negative:  Pretend I am your son or grandson - tell me why I should continue to invest?\n",
      "Negative:  Lost most of my portfolio on poorly timed AAPL calls. I still haven’t fully comprehended it.\n",
      "Neutral:  The Bear Case for Berkshire Hathaway\n",
      "Neutral:  AAPL stock Forecast\n",
      "Negative:  Look at chart of TD blocking trades.\n",
      "Neutral:  Another smooth brain betting 17k against the AAPL\n",
      "Neutral:  Aapl stock\n",
      "Negative:  Apple Reportedly Faces Shortfall Of 6 Million iPhones Amid China Factory Protests\n",
      "Negative:  Elon Musk going into twitter \"war\" with Apple?\n",
      "Neutral:  Calculate Cost Basis from a Log with Multiple Buys and Sells\n",
      "Negative:  Elon Musk goes to war with Apple over App Store fees, moderation\n",
      "Neutral:  Puts on AAPL\n",
      "Neutral:  I just bought elongated puts AAPL\n",
      "Neutral:  I just bought elongated puts AAPL\n"
     ]
    },
    {
     "name": "stderr",
     "output_type": "stream",
     "text": [
      "C:\\Users\\ching\\AppData\\Local\\Temp\\ipykernel_1480\\1171078796.py:3: SettingWithCopyWarning: \n",
      "A value is trying to be set on a copy of a slice from a DataFrame.\n",
      "Try using .loc[row_indexer,col_indexer] = value instead\n",
      "\n",
      "See the caveats in the documentation: https://pandas.pydata.org/pandas-docs/stable/user_guide/indexing.html#returning-a-view-versus-a-copy\n",
      "  df_filtered['vad_score'] =  df_filtered.apply(lambda row : sentiment_scores(row['title'], vad_score), axis = 1)\n"
     ]
    }
   ],
   "source": [
    "vad_score = []\n",
    "\n",
    "df_filtered['vad_score'] =  df_filtered.apply(lambda row : sentiment_scores(row['title'], vad_score), axis = 1)"
   ]
  },
  {
   "cell_type": "code",
   "execution_count": 17,
   "id": "9f650dbb",
   "metadata": {},
   "outputs": [],
   "source": [
    "df = df_filtered"
   ]
  },
  {
   "cell_type": "code",
   "execution_count": 18,
   "id": "4b7575e2",
   "metadata": {},
   "outputs": [],
   "source": [
    "df = df.drop(['id'], axis=1)\n",
    "df = df.drop(['author'], axis=1)\n",
    "df = df.drop(['domain'], axis=1)\n",
    "df = df.drop(['url'], axis=1)\n",
    "df = df.drop(['title'], axis=1)"
   ]
  },
  {
   "cell_type": "code",
   "execution_count": 19,
   "id": "66412ef2",
   "metadata": {},
   "outputs": [],
   "source": [
    "df['datetime'] = pd.to_datetime(df.datetime)"
   ]
  },
  {
   "cell_type": "code",
   "execution_count": 20,
   "id": "acc8a7f4",
   "metadata": {},
   "outputs": [],
   "source": [
    "df['datetime'] = pd.to_datetime(df.datetime, format='%Y-%m-%d')"
   ]
  },
  {
   "cell_type": "code",
   "execution_count": 21,
   "id": "2fd92e01",
   "metadata": {},
   "outputs": [],
   "source": [
    "df1 = df.groupby([df['datetime'].dt.date]).vad_score.apply(list).reset_index()"
   ]
  },
  {
   "cell_type": "code",
   "execution_count": 22,
   "id": "5856aaaf",
   "metadata": {},
   "outputs": [],
   "source": [
    "df1.to_csv(f'signal_{keyword}_{subreddit}.csv', sep=',', header=True, index=False)"
   ]
  },
  {
   "cell_type": "code",
   "execution_count": 23,
   "id": "66e0f13f",
   "metadata": {},
   "outputs": [],
   "source": [
    "df1['sum'] = [sum(x) for x in df1['vad_score']]"
   ]
  },
  {
   "cell_type": "code",
   "execution_count": 24,
   "id": "572c2300",
   "metadata": {},
   "outputs": [],
   "source": [
    "df1 = df1.drop(['vad_score'], axis=1)"
   ]
  },
  {
   "cell_type": "code",
   "execution_count": 25,
   "id": "521d466e",
   "metadata": {},
   "outputs": [],
   "source": [
    "df1.to_csv(f'nov-signal_{keyword}_{subreddit}.csv', sep=',', header=True, index=False)"
   ]
  },
  {
   "cell_type": "code",
   "execution_count": null,
   "id": "68858d10",
   "metadata": {},
   "outputs": [],
   "source": []
  },
  {
   "cell_type": "code",
   "execution_count": null,
   "id": "6fee2d29",
   "metadata": {},
   "outputs": [],
   "source": []
  }
 ],
 "metadata": {
  "kernelspec": {
   "display_name": "Python 3 (ipykernel)",
   "language": "python",
   "name": "python3"
  },
  "language_info": {
   "codemirror_mode": {
    "name": "ipython",
    "version": 3
   },
   "file_extension": ".py",
   "mimetype": "text/x-python",
   "name": "python",
   "nbconvert_exporter": "python",
   "pygments_lexer": "ipython3",
   "version": "3.10.7"
  }
 },
 "nbformat": 4,
 "nbformat_minor": 5
}
