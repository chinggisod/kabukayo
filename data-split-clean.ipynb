{
 "cells": [
  {
   "cell_type": "code",
   "execution_count": 2,
   "id": "c148b457",
   "metadata": {},
   "outputs": [],
   "source": [
    "from nltk.corpus import stopwords\n",
    "from nltk.stem import WordNetLemmatizer\n",
    "import contractions\n",
    "import re\n",
    "def preprocess(sentence):\n",
    "    stop_words = set(stopwords.words('english'))\n",
    "    lemmatizer = WordNetLemmatizer()\n",
    "    sentence = re.sub('[^A-z]', ' ', sentence)\n",
    "    negative = ['not', 'neither', 'nor', 'but', 'however', 'although', 'nonetheless', 'despite', 'except',\n",
    "                        'even though', 'yet']\n",
    "    stop_words = [z for z in stop_words if z not in negative]\n",
    "    preprocessed_tokens = [lemmatizer.lemmatize(contractions.fix(temp.lower())) for temp in sentence.split() if temp not in stop_words] #lemmatization\n",
    "    return ' '.join([x for x in preprocessed_tokens]).strip()"
   ]
  },
  {
   "cell_type": "code",
   "execution_count": 3,
   "id": "e3ab8982",
   "metadata": {},
   "outputs": [],
   "source": [
    "import pandas as pd\n",
    "from datetime import datetime\n",
    "# Read the AAPL.csv file into a pandas DataFrame\n",
    "df = pd.read_csv(\"AAPL_2021.csv\")"
   ]
  },
  {
   "cell_type": "code",
   "execution_count": 4,
   "id": "2607e683",
   "metadata": {},
   "outputs": [],
   "source": [
    "def apply_preprocess(df):\n",
    "  df['title'] = df['title'].apply(preprocess)\n",
    "  return df"
   ]
  },
  {
   "cell_type": "code",
   "execution_count": 5,
   "id": "18241b2b",
   "metadata": {},
   "outputs": [],
   "source": [
    "df_processed = apply_preprocess(df)"
   ]
  },
  {
   "cell_type": "code",
   "execution_count": 6,
   "id": "20eed14f",
   "metadata": {},
   "outputs": [
    {
     "data": {
      "text/html": [
       "<div>\n",
       "<style scoped>\n",
       "    .dataframe tbody tr th:only-of-type {\n",
       "        vertical-align: middle;\n",
       "    }\n",
       "\n",
       "    .dataframe tbody tr th {\n",
       "        vertical-align: top;\n",
       "    }\n",
       "\n",
       "    .dataframe thead th {\n",
       "        text-align: right;\n",
       "    }\n",
       "</style>\n",
       "<table border=\"1\" class=\"dataframe\">\n",
       "  <thead>\n",
       "    <tr style=\"text-align: right;\">\n",
       "      <th></th>\n",
       "      <th>datetime</th>\n",
       "      <th>domain</th>\n",
       "      <th>title</th>\n",
       "      <th>num_comments</th>\n",
       "    </tr>\n",
       "  </thead>\n",
       "  <tbody>\n",
       "    <tr>\n",
       "      <th>0</th>\n",
       "      <td>2021-01-01</td>\n",
       "      <td>self.options</td>\n",
       "      <td>can i sell otm call reduce loss</td>\n",
       "      <td>6</td>\n",
       "    </tr>\n",
       "    <tr>\n",
       "      <th>1</th>\n",
       "      <td>2021-01-01</td>\n",
       "      <td>self.PersonalFinanceCanada</td>\n",
       "      <td>tax loss harvesting option</td>\n",
       "      <td>1</td>\n",
       "    </tr>\n",
       "    <tr>\n",
       "      <th>2</th>\n",
       "      <td>2021-01-01</td>\n",
       "      <td>self.wallstreetbets</td>\n",
       "      <td>aapl play</td>\n",
       "      <td>79</td>\n",
       "    </tr>\n",
       "    <tr>\n",
       "      <th>3</th>\n",
       "      <td>2021-01-01</td>\n",
       "      <td>i.redd.it</td>\n",
       "      <td>some today active stock option aapl tsla nio a...</td>\n",
       "      <td>0</td>\n",
       "    </tr>\n",
       "    <tr>\n",
       "      <th>4</th>\n",
       "      <td>2021-01-01</td>\n",
       "      <td>self.streetguru</td>\n",
       "      <td>aapl jp morgan data indicates iphone wait time...</td>\n",
       "      <td>1</td>\n",
       "    </tr>\n",
       "    <tr>\n",
       "      <th>...</th>\n",
       "      <td>...</td>\n",
       "      <td>...</td>\n",
       "      <td>...</td>\n",
       "      <td>...</td>\n",
       "    </tr>\n",
       "    <tr>\n",
       "      <th>13397</th>\n",
       "      <td>2021-12-31</td>\n",
       "      <td>self.CanaryWharfBets</td>\n",
       "      <td>valereum vlrm fully regulated exchange link cr...</td>\n",
       "      <td>2</td>\n",
       "    </tr>\n",
       "    <tr>\n",
       "      <th>13398</th>\n",
       "      <td>2021-12-31</td>\n",
       "      <td>self.BizSMG</td>\n",
       "      <td>sat jan</td>\n",
       "      <td>2</td>\n",
       "    </tr>\n",
       "    <tr>\n",
       "      <th>13399</th>\n",
       "      <td>2021-12-31</td>\n",
       "      <td>self.BizSMG</td>\n",
       "      <td>sat jan</td>\n",
       "      <td>2</td>\n",
       "    </tr>\n",
       "    <tr>\n",
       "      <th>13400</th>\n",
       "      <td>2021-12-31</td>\n",
       "      <td>i.redd.it</td>\n",
       "      <td>today top stock option open interest headline ...</td>\n",
       "      <td>0</td>\n",
       "    </tr>\n",
       "    <tr>\n",
       "      <th>13401</th>\n",
       "      <td>2021-12-31</td>\n",
       "      <td>i.redd.it</td>\n",
       "      <td>this week active stock option aapl nvda mu f t...</td>\n",
       "      <td>0</td>\n",
       "    </tr>\n",
       "  </tbody>\n",
       "</table>\n",
       "<p>13402 rows × 4 columns</p>\n",
       "</div>"
      ],
      "text/plain": [
       "         datetime                      domain  \\\n",
       "0      2021-01-01                self.options   \n",
       "1      2021-01-01  self.PersonalFinanceCanada   \n",
       "2      2021-01-01         self.wallstreetbets   \n",
       "3      2021-01-01                   i.redd.it   \n",
       "4      2021-01-01             self.streetguru   \n",
       "...           ...                         ...   \n",
       "13397  2021-12-31        self.CanaryWharfBets   \n",
       "13398  2021-12-31                 self.BizSMG   \n",
       "13399  2021-12-31                 self.BizSMG   \n",
       "13400  2021-12-31                   i.redd.it   \n",
       "13401  2021-12-31                   i.redd.it   \n",
       "\n",
       "                                                   title  num_comments  \n",
       "0                        can i sell otm call reduce loss             6  \n",
       "1                             tax loss harvesting option             1  \n",
       "2                                              aapl play            79  \n",
       "3      some today active stock option aapl tsla nio a...             0  \n",
       "4      aapl jp morgan data indicates iphone wait time...             1  \n",
       "...                                                  ...           ...  \n",
       "13397  valereum vlrm fully regulated exchange link cr...             2  \n",
       "13398                                            sat jan             2  \n",
       "13399                                            sat jan             2  \n",
       "13400  today top stock option open interest headline ...             0  \n",
       "13401  this week active stock option aapl nvda mu f t...             0  \n",
       "\n",
       "[13402 rows x 4 columns]"
      ]
     },
     "execution_count": 6,
     "metadata": {},
     "output_type": "execute_result"
    }
   ],
   "source": [
    "df"
   ]
  },
  {
   "cell_type": "code",
   "execution_count": 7,
   "id": "b4ba13b6",
   "metadata": {},
   "outputs": [],
   "source": [
    "df.to_csv('preprocessed_AAPL_2021.csv', index=False)"
   ]
  },
  {
   "cell_type": "code",
   "execution_count": 3,
   "id": "3bac39a4",
   "metadata": {},
   "outputs": [
    {
     "name": "stdout",
     "output_type": "stream",
     "text": [
      "aapl apparently biggest value si across market\n"
     ]
    }
   ],
   "source": [
    "sentence = \"AAPL apparently has the biggest $ value of SI across the market\"\n",
    "ns = preprocess(sentence)\n",
    "print(ns)"
   ]
  },
  {
   "cell_type": "code",
   "execution_count": 4,
   "id": "5ad3a569",
   "metadata": {},
   "outputs": [
    {
     "name": "stdout",
     "output_type": "stream",
     "text": [
      "even world biggest bear beat bull michael burry exists aapl put\n"
     ]
    }
   ],
   "source": [
    "sentence = \"Even the world’s biggest bear can’t beat the bulls; Michael Burry exists his AAPL puts 🤌🏻\"\n",
    "ns = preprocess(sentence)\n",
    "print(ns)"
   ]
  },
  {
   "cell_type": "code",
   "execution_count": 5,
   "id": "7e33460c",
   "metadata": {},
   "outputs": [
    {
     "name": "stdout",
     "output_type": "stream",
     "text": [
      "aapl i long apple good company i like company future\n"
     ]
    }
   ],
   "source": [
    "sentence = \"$AAPL I'm long with APPLE, a good company. I like companies that have a future.\"\n",
    "ns = preprocess(sentence)\n",
    "print(ns)"
   ]
  },
  {
   "cell_type": "code",
   "execution_count": null,
   "id": "27de853f",
   "metadata": {},
   "outputs": [],
   "source": []
  }
 ],
 "metadata": {
  "kernelspec": {
   "display_name": "Python 3 (ipykernel)",
   "language": "python",
   "name": "python3"
  },
  "language_info": {
   "codemirror_mode": {
    "name": "ipython",
    "version": 3
   },
   "file_extension": ".py",
   "mimetype": "text/x-python",
   "name": "python",
   "nbconvert_exporter": "python",
   "pygments_lexer": "ipython3",
   "version": "3.9.12"
  }
 },
 "nbformat": 4,
 "nbformat_minor": 5
}
